{
 "cells": [
  {
   "cell_type": "code",
   "id": "initial_id",
   "metadata": {
    "collapsed": true,
    "ExecuteTime": {
     "end_time": "2025-07-02T18:04:26.168281Z",
     "start_time": "2025-07-02T18:04:25.065751Z"
    }
   },
   "source": [
    "from langchain_openai import ChatOpenAI\n",
    "from dotenv import load_dotenv\n",
    "from langchain_tavily import TavilySearch\n",
    "from langchain_core.tools import tool\n",
    "from langgraph_supervisor import create_supervisor\n",
    "from langgraph.prebuilt import create_react_agent\n",
    "import os\n",
    "import warnings\n",
    "warnings.filterwarnings(\"ignore\")"
   ],
   "outputs": [],
   "execution_count": 1
  },
  {
   "metadata": {
    "ExecuteTime": {
     "end_time": "2025-07-02T18:04:26.432018Z",
     "start_time": "2025-07-02T18:04:26.177281Z"
    }
   },
   "cell_type": "code",
   "source": [
    "load_dotenv()\n",
    "model = ChatOpenAI()"
   ],
   "id": "15842c14656e63f7",
   "outputs": [],
   "execution_count": 2
  },
  {
   "metadata": {},
   "cell_type": "markdown",
   "source": "# Tools",
   "id": "2522bb07544930a8"
  },
  {
   "metadata": {
    "ExecuteTime": {
     "end_time": "2025-07-02T18:57:42.076458Z",
     "start_time": "2025-07-02T18:57:42.052969Z"
    }
   },
   "cell_type": "code",
   "source": [
    "#@tool\n",
    "def finance_research_tool(topic: str) -> str:\n",
    "    \"\"\"\n",
    "    Search for the finance topic on web using TavilySearch\n",
    "    \"\"\"\n",
    "\n",
    "    tavilly_tool = TavilySearch(max_results=5, topic=\"finance\")\n",
    "    response = tavilly_tool.invoke({\"query\": topic})\n",
    "    return response\n",
    "\n",
    "#@tool\n",
    "def general_research_tool(topic: str) -> str:\n",
    "    \"\"\"\n",
    "    Search for the general topic on web using TavilySearch\n",
    "    \"\"\"\n",
    "\n",
    "    tavilly_tool = TavilySearch(max_results=5, topic=\"general\")\n",
    "    response = tavilly_tool.invoke({\"query\": topic})\n",
    "    return response"
   ],
   "id": "20a6705bfae73377",
   "outputs": [],
   "execution_count": 69
  },
  {
   "metadata": {
    "ExecuteTime": {
     "end_time": "2025-07-02T18:31:35.009517Z",
     "start_time": "2025-07-02T18:31:34.981518Z"
    }
   },
   "cell_type": "code",
   "source": [
    "@tool\n",
    "def add(a: float, b: float) -> float:\n",
    "    \"\"\"Add two numbers.\"\"\"\n",
    "    return a + b\n",
    "\n",
    "@tool\n",
    "def multiply(a: float, b: float) -> float:\n",
    "    \"\"\"Multiply two numbers.\"\"\"\n",
    "    return a * b"
   ],
   "id": "2fb223e1e8162d4c",
   "outputs": [],
   "execution_count": 40
  },
  {
   "metadata": {
    "ExecuteTime": {
     "end_time": "2025-07-02T18:32:53.354485Z",
     "start_time": "2025-07-02T18:32:53.342491Z"
    }
   },
   "cell_type": "code",
   "source": [
    "@tool\n",
    "def summarize(response: str) -> str:\n",
    "    \"\"\"Summarize and returns the response.\"\"\"\n",
    "    summary = model.invoke(f\"Generate summary of {response} in 300 words.\")\n",
    "    return summary"
   ],
   "id": "25695e943dca402e",
   "outputs": [],
   "execution_count": 52
  },
  {
   "metadata": {},
   "cell_type": "markdown",
   "source": "# Agents",
   "id": "9d0de63c2a5f9611"
  },
  {
   "metadata": {
    "ExecuteTime": {
     "end_time": "2025-07-02T18:59:49.324913Z",
     "start_time": "2025-07-02T18:59:48.784319Z"
    }
   },
   "cell_type": "code",
   "source": [
    "research_agent = create_react_agent(\n",
    "    model=model,\n",
    "    tools=[finance_research_tool, general_research_tool],\n",
    "    name=\"research_agent\",\n",
    "    prompt=\"\"\"You are a world class researcher with access to finance_research_tool and general_research_tool.\n",
    "    For general research, use general_research_tool.\n",
    "    For finance, use finance_research_tool.\n",
    "    Do not do any math.\"\"\"\n",
    ")"
   ],
   "id": "dd6e33e6f9474a3d",
   "outputs": [],
   "execution_count": 71
  },
  {
   "metadata": {
    "ExecuteTime": {
     "end_time": "2025-07-02T18:59:51.617534Z",
     "start_time": "2025-07-02T18:59:51.589329Z"
    }
   },
   "cell_type": "code",
   "source": [
    "math_agent = create_react_agent(\n",
    "    model=model,\n",
    "    tools=[add, multiply],\n",
    "    name=\"math_agent\",\n",
    "    prompt=\"You are a math expert. Always use one tool at a time.\"\n",
    ")"
   ],
   "id": "27a3d801e0a7ecb8",
   "outputs": [],
   "execution_count": 72
  },
  {
   "metadata": {
    "ExecuteTime": {
     "end_time": "2025-07-02T18:59:52.006850Z",
     "start_time": "2025-07-02T18:59:51.980802Z"
    }
   },
   "cell_type": "code",
   "source": [
    "summary_agent = create_react_agent(\n",
    "    model=model,\n",
    "    tools=[summarize],\n",
    "    name=\"summary_agent\",\n",
    "    prompt=\"You are a summary generator expert.\"\n",
    ")"
   ],
   "id": "d4727fc1a7221fd8",
   "outputs": [],
   "execution_count": 73
  },
  {
   "metadata": {},
   "cell_type": "markdown",
   "source": "## Mid-Level Supervisors",
   "id": "8b837d2dd537ee2b"
  },
  {
   "metadata": {
    "ExecuteTime": {
     "end_time": "2025-07-02T18:59:54.380607Z",
     "start_time": "2025-07-02T18:59:54.327268Z"
    }
   },
   "cell_type": "code",
   "source": [
    "research_team = create_supervisor(\n",
    "    [research_agent, math_agent],\n",
    "    model=model,\n",
    "    prompt=\"\"\"\n",
    "    You are the research supervisor managing two specialized agents: research_agent and math_agent.\n",
    "    DO NOT answer user queries yourself.\n",
    "\n",
    "    Your tasks:\n",
    "    1. Route general (non-math) queries to research_agent.\n",
    "    2. When the research_agent returns data that requires numeric calculations (like totals or sums), parse the relevant numbers from the response.\n",
    "    3. Formulate math queries to the math_agent to compute the required sums step-by-step.\n",
    "    4. Collect math_agent’s results and combine them if necessary.\n",
    "    5. Pass the final processed answer to the top_level_supervisor.\n",
    "\n",
    "    Always use the math_agent for any numeric calculations, do not calculate yourself.\n",
    "    \"\"\",\n",
    "    supervisor_name=\"research_supervisor\"\n",
    ").compile(name=\"research_team\")"
   ],
   "id": "8189b1563fc502a2",
   "outputs": [],
   "execution_count": 74
  },
  {
   "metadata": {},
   "cell_type": "markdown",
   "source": "# Top Level Supervisor",
   "id": "8ffc35171e127c2"
  },
  {
   "metadata": {
    "ExecuteTime": {
     "end_time": "2025-07-02T19:00:39.178292Z",
     "start_time": "2025-07-02T19:00:38.234888Z"
    }
   },
   "cell_type": "code",
   "source": [
    "top_level_supervisor = create_supervisor(\n",
    "    [research_team, summary_agent],\n",
    "    model=model,\n",
    "    prompt=\"\"\"\n",
    "    You are the top-level supervisor overseeing research_team and summary_agent.\n",
    "    Delegate tasks to research_team for initial answers.\n",
    "    Use summary_agent to present the final response.\n",
    "    \"\"\",\n",
    "    supervisor_name=\"top_level_supervisor\"\n",
    ").compile(name=\"top_level_supervisor\")\n",
    "\n",
    "top_level_supervisor"
   ],
   "id": "61754a858f86c939",
   "outputs": [
    {
     "data": {
      "text/plain": [
       "<langgraph.graph.state.CompiledStateGraph object at 0x00000162C4A6A4D0>"
      ],
      "image/png": "[encoded data removed]"
     },
     "execution_count": 78,
     "metadata": {},
     "output_type": "execute_result"
    }
   ],
   "execution_count": 78
  },
  {
   "metadata": {
    "ExecuteTime": {
     "end_time": "2025-07-02T19:01:11.976006Z",
     "start_time": "2025-07-02T19:01:03.829803Z"
    }
   },
   "cell_type": "code",
   "source": [
    "result = top_level_supervisor.invoke({\n",
    "    \"messages\": [\n",
    "        {\n",
    "            \"role\": \"user\",\n",
    "            \"content\": \"Difference between AI and ML\"\n",
    "        }\n",
    "    ]\n",
    "})"
   ],
   "id": "db783463aded77a9",
   "outputs": [
    {
     "name": "stderr",
     "output_type": "stream",
     "text": [
      "Task top_level_supervisor with path ('__pregel_pull', 'top_level_supervisor') wrote to unknown channel is_last_step, ignoring it.\n",
      "Task top_level_supervisor with path ('__pregel_pull', 'top_level_supervisor') wrote to unknown channel remaining_steps, ignoring it.\n",
      "Task top_level_supervisor with path ('__pregel_pull', 'top_level_supervisor') wrote to unknown channel is_last_step, ignoring it.\n",
      "Task top_level_supervisor with path ('__pregel_pull', 'top_level_supervisor') wrote to unknown channel remaining_steps, ignoring it.\n"
     ]
    }
   ],
   "execution_count": 79
  },
  {
   "metadata": {
    "ExecuteTime": {
     "end_time": "2025-07-02T19:01:13.475304Z",
     "start_time": "2025-07-02T19:01:13.451313Z"
    }
   },
   "cell_type": "code",
   "source": "result",
   "id": "8c9b81355c2b11d7",
   "outputs": [
    {
     "data": {
      "text/plain": [
       "{'messages': [HumanMessage(content='Difference between AI and ML', additional_kwargs={}, response_metadata={}, id='9105802a-5ef0-466a-8f3f-2ea9cc5962ae'),\n",
       "  AIMessage(content='', additional_kwargs={'tool_calls': [{'id': 'call_xJ3vkrYm2tWH3c9bvhOAVVRA', 'function': {'arguments': '{}', 'name': 'transfer_to_research_team'}, 'type': 'function'}], 'refusal': None}, response_metadata={'token_usage': {'completion_tokens': 13, 'prompt_tokens': 105, 'total_tokens': 118, 'completion_tokens_details': {'accepted_prediction_tokens': 0, 'audio_tokens': 0, 'reasoning_tokens': 0, 'rejected_prediction_tokens': 0}, 'prompt_tokens_details': {'audio_tokens': 0, 'cached_tokens': 0}}, 'model_name': 'gpt-3.5-turbo-0125', 'system_fingerprint': None, 'id': 'chatcmpl-BowzZoYhBScsO84N2R07uaMX1bAwG', 'service_tier': 'default', 'finish_reason': 'tool_calls', 'logprobs': None}, name='top_level_supervisor', id='run--5ad76ff1-aac5-42bd-b92a-aa93a07b8cec-0', tool_calls=[{'name': 'transfer_to_research_team', 'args': {}, 'id': 'call_xJ3vkrYm2tWH3c9bvhOAVVRA', 'type': 'tool_call'}], usage_metadata={'input_tokens': 105, 'output_tokens': 13, 'total_tokens': 118, 'input_token_details': {'audio': 0, 'cache_read': 0}, 'output_token_details': {'audio': 0, 'reasoning': 0}}),\n",
       "  ToolMessage(content='Successfully transferred to research_team', name='transfer_to_research_team', id='a02c9e17-0956-479c-a285-e6defc3d6fa7', tool_call_id='call_xJ3vkrYm2tWH3c9bvhOAVVRA'),\n",
       "  AIMessage(content='Can you please provide information on the difference between AI and ML?', additional_kwargs={'refusal': None}, response_metadata={'token_usage': {'completion_tokens': 14, 'prompt_tokens': 246, 'total_tokens': 260, 'completion_tokens_details': {'accepted_prediction_tokens': 0, 'audio_tokens': 0, 'reasoning_tokens': 0, 'rejected_prediction_tokens': 0}, 'prompt_tokens_details': {'audio_tokens': 0, 'cached_tokens': 0}}, 'model_name': 'gpt-3.5-turbo-0125', 'system_fingerprint': None, 'id': 'chatcmpl-BowzaHwj0kjgXKEnsv2WXieYoa3Lo', 'service_tier': 'default', 'finish_reason': 'stop', 'logprobs': None}, name='research_supervisor', id='run--997bffc6-14a5-4519-a54a-44458e7c17b4-0', usage_metadata={'input_tokens': 246, 'output_tokens': 14, 'total_tokens': 260, 'input_token_details': {'audio': 0, 'cache_read': 0}, 'output_token_details': {'audio': 0, 'reasoning': 0}}),\n",
       "  AIMessage(content='Transferring back to top_level_supervisor', additional_kwargs={}, response_metadata={'__is_handoff_back': True}, name='research_team', id='497a9c4a-eda0-41a9-9a96-ff99ec87a7ff', tool_calls=[{'name': 'transfer_back_to_top_level_supervisor', 'args': {}, 'id': 'c05ee102-7dbf-4fc8-b127-1a1a7d35f4cb', 'type': 'tool_call'}]),\n",
       "  ToolMessage(content='Successfully transferred back to top_level_supervisor', name='transfer_back_to_top_level_supervisor', id='df815d20-b75f-4a2c-bfed-037bdf010b28', tool_call_id='c05ee102-7dbf-4fc8-b127-1a1a7d35f4cb'),\n",
       "  AIMessage(content='', additional_kwargs={'tool_calls': [{'id': 'call_bvwAPELStisxXbzaIAp6sGaZ', 'function': {'arguments': '{}', 'name': 'transfer_to_summary_agent'}, 'type': 'function'}], 'refusal': None}, response_metadata={'token_usage': {'completion_tokens': 12, 'prompt_tokens': 215, 'total_tokens': 227, 'completion_tokens_details': {'accepted_prediction_tokens': 0, 'audio_tokens': 0, 'reasoning_tokens': 0, 'rejected_prediction_tokens': 0}, 'prompt_tokens_details': {'audio_tokens': 0, 'cached_tokens': 0}}, 'model_name': 'gpt-3.5-turbo-0125', 'system_fingerprint': None, 'id': 'chatcmpl-BowzcSCWqxmUIUoZNw1wNKTWvlqCg', 'service_tier': 'default', 'finish_reason': 'tool_calls', 'logprobs': None}, name='top_level_supervisor', id='run--292d81e6-75cb-404e-990d-414c9ec09dea-0', tool_calls=[{'name': 'transfer_to_summary_agent', 'args': {}, 'id': 'call_bvwAPELStisxXbzaIAp6sGaZ', 'type': 'tool_call'}], usage_metadata={'input_tokens': 215, 'output_tokens': 12, 'total_tokens': 227, 'input_token_details': {'audio': 0, 'cache_read': 0}, 'output_token_details': {'audio': 0, 'reasoning': 0}}),\n",
       "  ToolMessage(content='Successfully transferred to summary_agent', name='transfer_to_summary_agent', id='702698d0-9276-4f86-852d-ddb236028f0f', tool_call_id='call_bvwAPELStisxXbzaIAp6sGaZ'),\n",
       "  AIMessage(content='Artificial Intelligence (AI) simulates human intelligence processes by machines, including learning, reasoning, and self-correction. Machine Learning (ML) is a subset of AI that focuses on developing computer programs to access data and learn from it to make decisions. The main difference is that AI aims to simulate human intelligence, while ML involves developing algorithms that can learn from data.', additional_kwargs={'refusal': None}, response_metadata={'token_usage': {'completion_tokens': 75, 'prompt_tokens': 385, 'total_tokens': 460, 'completion_tokens_details': {'accepted_prediction_tokens': 0, 'audio_tokens': 0, 'reasoning_tokens': 0, 'rejected_prediction_tokens': 0}, 'prompt_tokens_details': {'audio_tokens': 0, 'cached_tokens': 0}}, 'model_name': 'gpt-3.5-turbo-0125', 'system_fingerprint': None, 'id': 'chatcmpl-BowzfsUTKtRG9IHJvXcnC2Biz0pBO', 'service_tier': 'default', 'finish_reason': 'stop', 'logprobs': None}, name='summary_agent', id='run--2e122d1e-e8c6-4270-85e6-467a21e7e2ea-0', usage_metadata={'input_tokens': 385, 'output_tokens': 75, 'total_tokens': 460, 'input_token_details': {'audio': 0, 'cache_read': 0}, 'output_token_details': {'audio': 0, 'reasoning': 0}}),\n",
       "  AIMessage(content='Transferring back to top_level_supervisor', additional_kwargs={}, response_metadata={'__is_handoff_back': True}, name='summary_agent', id='83891666-a505-4e7c-82f5-467cbe445954', tool_calls=[{'name': 'transfer_back_to_top_level_supervisor', 'args': {}, 'id': 'b5147c36-6f8c-4cee-b7c4-ab420ece3ba9', 'type': 'tool_call'}]),\n",
       "  ToolMessage(content='Successfully transferred back to top_level_supervisor', name='transfer_back_to_top_level_supervisor', id='5bda6681-35b9-4280-a97f-5e2cac46df00', tool_call_id='b5147c36-6f8c-4cee-b7c4-ab420ece3ba9'),\n",
       "  AIMessage(content='The difference between AI and ML is that AI simulates human intelligence processes by machines, while ML is a subset of AI that focuses on developing algorithms to learn from data.', additional_kwargs={'refusal': None}, response_metadata={'token_usage': {'completion_tokens': 35, 'prompt_tokens': 383, 'total_tokens': 418, 'completion_tokens_details': {'accepted_prediction_tokens': 0, 'audio_tokens': 0, 'reasoning_tokens': 0, 'rejected_prediction_tokens': 0}, 'prompt_tokens_details': {'audio_tokens': 0, 'cached_tokens': 0}}, 'model_name': 'gpt-3.5-turbo-0125', 'system_fingerprint': None, 'id': 'chatcmpl-Bowzgxl7xhyO7Jqip3CqMbc6j4EjJ', 'service_tier': 'default', 'finish_reason': 'stop', 'logprobs': None}, name='top_level_supervisor', id='run--6142b811-feb7-4887-aa4b-2cd8d86054e6-0', usage_metadata={'input_tokens': 383, 'output_tokens': 35, 'total_tokens': 418, 'input_token_details': {'audio': 0, 'cache_read': 0}, 'output_token_details': {'audio': 0, 'reasoning': 0}})]}"
      ]
     },
     "execution_count": 80,
     "metadata": {},
     "output_type": "execute_result"
    }
   ],
   "execution_count": 80
  },
  {
   "metadata": {
    "ExecuteTime": {
     "end_time": "2025-07-02T18:04:31.585633Z",
     "start_time": "2025-07-02T18:04:31.576647Z"
    }
   },
   "cell_type": "code",
   "source": "",
   "id": "c58fdba1466e3dc3",
   "outputs": [],
   "execution_count": null
  }
 ],
 "metadata": {
  "kernelspec": {
   "display_name": "Python 3",
   "language": "python",
   "name": "python3"
  },
  "language_info": {
   "codemirror_mode": {
    "name": "ipython",
    "version": 2
   },
   "file_extension": ".py",
   "mimetype": "text/x-python",
   "name": "python",
   "nbconvert_exporter": "python",
   "pygments_lexer": "ipython2",
   "version": "2.7.6"
  }
 },
 "nbformat": 4,
 "nbformat_minor": 5
}
